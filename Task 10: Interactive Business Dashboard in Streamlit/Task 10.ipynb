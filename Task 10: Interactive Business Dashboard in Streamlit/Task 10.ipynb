{
 "cells": [
  {
   "cell_type": "code",
   "execution_count": 1,
   "id": "768cb5af-498c-4f2f-a2e1-a068a9be1057",
   "metadata": {},
   "outputs": [],
   "source": [
    "# Basic data handling\n",
    "import pandas as pd\n",
    "\n",
    "# Streamlit and visualization\n",
    "import streamlit as st\n",
    "import plotly.express as px"
   ]
  },
  {
   "cell_type": "code",
   "execution_count": 2,
   "id": "37a73889-27e5-4a9c-958c-7bbba6f48892",
   "metadata": {},
   "outputs": [],
   "source": [
    "# Load your dataset\n",
    "df = pd.read_csv(\"Global Superstore Dataset.csv\", encoding='latin1')"
   ]
  },
  {
   "cell_type": "code",
   "execution_count": 3,
   "id": "9f297114-0b8c-4bb0-a20b-5b9cb1495968",
   "metadata": {},
   "outputs": [],
   "source": [
    "df.columns = df.columns.str.encode('ascii', 'ignore').str.decode('ascii')\n",
    "df.columns = df.columns.str.strip().str.replace(' ', '_').str.replace('.', '_')"
   ]
  },
  {
   "cell_type": "code",
   "execution_count": 4,
   "id": "10ede8a1-2eeb-46d6-9f1f-75a06606f68d",
   "metadata": {},
   "outputs": [],
   "source": [
    "# Rename columns for consistency\n",
    "df.columns = df.columns.str.strip().str.replace(\" \", \"_\")\n",
    "\n",
    "# Convert Order Date and Ship Date if needed\n",
    "df['Order_Date'] = pd.to_datetime(df['Order_Date'], errors='coerce')\n",
    "df['Ship_Date'] = pd.to_datetime(df['Ship_Date'], errors='coerce')\n",
    "\n",
    "# Clean Profit and Sales columns\n",
    "df['Profit'] = pd.to_numeric(df['Profit'], errors='coerce')\n",
    "df['Sales'] = pd.to_numeric(df['Sales'], errors='coerce')"
   ]
  },
  {
   "cell_type": "code",
   "execution_count": 5,
   "id": "daf9eb49-832e-4834-9b1e-6db10171c7b4",
   "metadata": {},
   "outputs": [
    {
     "name": "stderr",
     "output_type": "stream",
     "text": [
      "2025-07-17 23:05:05.237 WARNING streamlit.runtime.scriptrunner_utils.script_run_context: Thread 'MainThread': missing ScriptRunContext! This warning can be ignored when running in bare mode.\n",
      "2025-07-17 23:05:05.239 WARNING streamlit.runtime.scriptrunner_utils.script_run_context: Thread 'MainThread': missing ScriptRunContext! This warning can be ignored when running in bare mode.\n",
      "2025-07-17 23:05:06.067 \n",
      "  \u001b[33m\u001b[1mWarning:\u001b[0m to view this Streamlit app on a browser, run it with the following\n",
      "  command:\n",
      "\n",
      "    streamlit run C:\\Users\\Global\\anaconda3\\Lib\\site-packages\\ipykernel_launcher.py [ARGUMENTS]\n",
      "2025-07-17 23:05:06.080 Thread 'MainThread': missing ScriptRunContext! This warning can be ignored when running in bare mode.\n",
      "2025-07-17 23:05:06.081 Thread 'MainThread': missing ScriptRunContext! This warning can be ignored when running in bare mode.\n",
      "2025-07-17 23:05:06.082 Thread 'MainThread': missing ScriptRunContext! This warning can be ignored when running in bare mode.\n",
      "2025-07-17 23:05:06.085 Thread 'MainThread': missing ScriptRunContext! This warning can be ignored when running in bare mode.\n",
      "2025-07-17 23:05:06.087 Thread 'MainThread': missing ScriptRunContext! This warning can be ignored when running in bare mode.\n",
      "2025-07-17 23:05:06.114 Thread 'MainThread': missing ScriptRunContext! This warning can be ignored when running in bare mode.\n",
      "2025-07-17 23:05:06.116 Thread 'MainThread': missing ScriptRunContext! This warning can be ignored when running in bare mode.\n",
      "2025-07-17 23:05:06.122 Thread 'MainThread': missing ScriptRunContext! This warning can be ignored when running in bare mode.\n",
      "2025-07-17 23:05:06.124 Thread 'MainThread': missing ScriptRunContext! This warning can be ignored when running in bare mode.\n",
      "2025-07-17 23:05:06.129 Thread 'MainThread': missing ScriptRunContext! This warning can be ignored when running in bare mode.\n",
      "2025-07-17 23:05:06.168 Thread 'MainThread': missing ScriptRunContext! This warning can be ignored when running in bare mode.\n",
      "2025-07-17 23:05:06.169 Thread 'MainThread': missing ScriptRunContext! This warning can be ignored when running in bare mode.\n",
      "2025-07-17 23:05:06.174 Thread 'MainThread': missing ScriptRunContext! This warning can be ignored when running in bare mode.\n",
      "2025-07-17 23:05:06.177 Thread 'MainThread': missing ScriptRunContext! This warning can be ignored when running in bare mode.\n",
      "2025-07-17 23:05:06.182 Thread 'MainThread': missing ScriptRunContext! This warning can be ignored when running in bare mode.\n",
      "2025-07-17 23:05:06.206 Thread 'MainThread': missing ScriptRunContext! This warning can be ignored when running in bare mode.\n",
      "2025-07-17 23:05:06.207 Thread 'MainThread': missing ScriptRunContext! This warning can be ignored when running in bare mode.\n",
      "2025-07-17 23:05:06.218 Thread 'MainThread': missing ScriptRunContext! This warning can be ignored when running in bare mode.\n",
      "2025-07-17 23:05:06.219 Thread 'MainThread': missing ScriptRunContext! This warning can be ignored when running in bare mode.\n",
      "2025-07-17 23:05:06.221 Thread 'MainThread': missing ScriptRunContext! This warning can be ignored when running in bare mode.\n"
     ]
    }
   ],
   "source": [
    "# Streamlit app starts here\n",
    "st.set_page_config(page_title=\"Global Superstore Dashboard\", layout=\"wide\")\n",
    "st.title(\"📊Global Superstore Dashboard\")\n",
    "st.markdown(\"Analyze sales, profit, and customer insights interactively.\")\n",
    "\n",
    "# Sidebar Filters\n",
    "st.sidebar.header(\"🔍 Filter the data:\")\n",
    "region = st.sidebar.multiselect(\"Select Region\", df['Region'].dropna().unique(), default=df['Region'].dropna().unique())\n",
    "category = st.sidebar.multiselect(\"Select Category\", df['Category'].dropna().unique(), default=df['Category'].dropna().unique())\n",
    "sub_category = st.sidebar.multiselect(\"Select Sub-Category\", df['Sub_Category'].dropna().unique(), default=df['Sub_Category'].dropna().unique())\n",
    "\n",
    "# Filter the DataFrame\n",
    "filtered_df = df[(df['Region'].isin(region)) &\n",
    "                 (df['Category'].isin(category)) &\n",
    "                 (df['Sub_Category'].isin(sub_category))]\n"
   ]
  },
  {
   "cell_type": "code",
   "execution_count": 6,
   "id": "ac569591-2457-423f-a096-8ea0d669d15e",
   "metadata": {},
   "outputs": [
    {
     "name": "stderr",
     "output_type": "stream",
     "text": [
      "2025-07-17 23:05:06.312 Thread 'MainThread': missing ScriptRunContext! This warning can be ignored when running in bare mode.\n",
      "2025-07-17 23:05:06.314 Thread 'MainThread': missing ScriptRunContext! This warning can be ignored when running in bare mode.\n",
      "2025-07-17 23:05:06.316 Thread 'MainThread': missing ScriptRunContext! This warning can be ignored when running in bare mode.\n",
      "2025-07-17 23:05:06.317 Thread 'MainThread': missing ScriptRunContext! This warning can be ignored when running in bare mode.\n",
      "2025-07-17 23:05:06.318 Thread 'MainThread': missing ScriptRunContext! This warning can be ignored when running in bare mode.\n",
      "2025-07-17 23:05:06.320 Thread 'MainThread': missing ScriptRunContext! This warning can be ignored when running in bare mode.\n",
      "2025-07-17 23:05:06.323 Thread 'MainThread': missing ScriptRunContext! This warning can be ignored when running in bare mode.\n"
     ]
    },
    {
     "data": {
      "text/plain": [
       "DeltaGenerator()"
      ]
     },
     "execution_count": 6,
     "metadata": {},
     "output_type": "execute_result"
    }
   ],
   "source": [
    "# KPIs\n",
    "total_sales = filtered_df['Sales'].sum()\n",
    "total_profit = filtered_df['Profit'].sum()\n",
    "top_customers = filtered_df.groupby('Customer_Name')['Sales'].sum().sort_values(ascending=False).head(5)\n",
    "\n",
    "# Display KPIs\n",
    "col1, col2 = st.columns(2)\n",
    "col1.metric(\"💰 Total Sales\", f\"${total_sales:,.0f}\")\n",
    "col2.metric(\"📈 Total Profit\", f\"${total_profit:,.0f}\")"
   ]
  },
  {
   "cell_type": "code",
   "execution_count": 7,
   "id": "2d550a61-7425-41ff-a875-62c9e1b888e3",
   "metadata": {},
   "outputs": [
    {
     "name": "stderr",
     "output_type": "stream",
     "text": [
      "2025-07-17 23:05:07.129 Thread 'MainThread': missing ScriptRunContext! This warning can be ignored when running in bare mode.\n",
      "2025-07-17 23:05:07.130 Thread 'MainThread': missing ScriptRunContext! This warning can be ignored when running in bare mode.\n",
      "2025-07-17 23:05:07.131 Thread 'MainThread': missing ScriptRunContext! This warning can be ignored when running in bare mode.\n",
      "2025-07-17 23:05:07.132 Thread 'MainThread': missing ScriptRunContext! This warning can be ignored when running in bare mode.\n",
      "2025-07-17 23:05:07.218 Thread 'MainThread': missing ScriptRunContext! This warning can be ignored when running in bare mode.\n",
      "2025-07-17 23:05:07.221 Thread 'MainThread': missing ScriptRunContext! This warning can be ignored when running in bare mode.\n",
      "2025-07-17 23:05:07.227 Thread 'MainThread': missing ScriptRunContext! This warning can be ignored when running in bare mode.\n",
      "2025-07-17 23:05:07.230 Thread 'MainThread': missing ScriptRunContext! This warning can be ignored when running in bare mode.\n",
      "2025-07-17 23:05:07.242 Thread 'MainThread': missing ScriptRunContext! This warning can be ignored when running in bare mode.\n",
      "2025-07-17 23:05:07.244 Thread 'MainThread': missing ScriptRunContext! This warning can be ignored when running in bare mode.\n",
      "2025-07-17 23:05:07.247 Thread 'MainThread': missing ScriptRunContext! This warning can be ignored when running in bare mode.\n",
      "2025-07-17 23:05:07.249 Thread 'MainThread': missing ScriptRunContext! This warning can be ignored when running in bare mode.\n"
     ]
    },
    {
     "data": {
      "text/plain": [
       "DeltaGenerator()"
      ]
     },
     "execution_count": 7,
     "metadata": {},
     "output_type": "execute_result"
    }
   ],
   "source": [
    "# Sales by Category\n",
    "fig1 = px.bar(filtered_df.groupby('Category')['Sales'].sum().reset_index(),\n",
    "              x='Category', y='Sales', color='Category',\n",
    "              title='💼 Sales by Category')\n",
    "\n",
    "# Profit by Region\n",
    "fig2 = px.pie(filtered_df, names='Region', values='Profit', title='🌍 Profit Distribution by Region')\n",
    "\n",
    "# Top 5 Customers\n",
    "fig3 = px.bar(top_customers.reset_index(), x='Customer_Name', y='Sales',\n",
    "              title='🏆 Top 5 Customers by Sales', color='Sales')\n",
    "\n",
    "# Layout for visuals\n",
    "st.plotly_chart(fig1, use_container_width=True)\n",
    "st.plotly_chart(fig2, use_container_width=True)\n",
    "st.plotly_chart(fig3, use_container_width=True)"
   ]
  },
  {
   "cell_type": "code",
   "execution_count": 8,
   "id": "7e61bbe1-1a90-4421-8bc9-8f5ca5ca62dd",
   "metadata": {},
   "outputs": [
    {
     "name": "stderr",
     "output_type": "stream",
     "text": [
      "2025-07-17 23:05:07.285 Thread 'MainThread': missing ScriptRunContext! This warning can be ignored when running in bare mode.\n",
      "2025-07-17 23:05:07.289 Thread 'MainThread': missing ScriptRunContext! This warning can be ignored when running in bare mode.\n"
     ]
    },
    {
     "data": {
      "text/plain": [
       "DeltaGenerator()"
      ]
     },
     "execution_count": 8,
     "metadata": {},
     "output_type": "execute_result"
    }
   ],
   "source": [
    "st.markdown(\"\"\"\n",
    "### 📌 Insights Summary\n",
    "\n",
    "- **Top Performing Regions** and **Categories** are clearly visible from the charts.\n",
    "- The **Top 5 Customers** show where the highest revenue is concentrated.\n",
    "- You can use this dashboard to make **data-driven business decisions** for inventory, marketing, and operations.\n",
    "\n",
    "---\n",
    "\"\"\")"
   ]
  },
  {
   "cell_type": "code",
   "execution_count": 9,
   "id": "d3d4ea9f-de21-41e8-b01d-59a19dc4d94b",
   "metadata": {},
   "outputs": [
    {
     "name": "stderr",
     "output_type": "stream",
     "text": [
      "Usage: streamlit run [OPTIONS] TARGET [ARGS]...\n",
      "Try 'streamlit run --help' for help.\n",
      "\n",
      "Error: Streamlit requires raw Python (.py) files, but the provided file has no extension.\n",
      "For more information, please see https://docs.streamlit.io\n"
     ]
    }
   ],
   "source": [
    "!streamlit run  Interactive Business Dashboard.py"
   ]
  }
 ],
 "metadata": {
  "kernelspec": {
   "display_name": "Python 3 (ipykernel)",
   "language": "python",
   "name": "python3"
  },
  "language_info": {
   "codemirror_mode": {
    "name": "ipython",
    "version": 3
   },
   "file_extension": ".py",
   "mimetype": "text/x-python",
   "name": "python",
   "nbconvert_exporter": "python",
   "pygments_lexer": "ipython3",
   "version": "3.11.7"
  }
 },
 "nbformat": 4,
 "nbformat_minor": 5
}
